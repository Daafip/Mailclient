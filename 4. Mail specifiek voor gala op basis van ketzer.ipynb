{
 "cells": [
  {
   "cell_type": "markdown",
   "id": "e0a416d4",
   "metadata": {},
   "source": [
    "# Het enige verschil met #2/3 is de dubbel check functie"
   ]
  },
  {
   "cell_type": "markdown",
   "id": "4baaa1b2",
   "metadata": {},
   "source": [
    "Om alle leden in een ketzer te mailen hebben we een aantal packages nodig. <br>\n",
    "De meeste zitten standaard bij python, sommige niet: als je pandas of numpy niet hebt installeer die dan. <br>\n",
    "Dat kan met: _pip install pandas_ en _pip install numpy_"
   ]
  },
  {
   "cell_type": "code",
   "execution_count": 40,
   "id": "782b7041",
   "metadata": {},
   "outputs": [],
   "source": [
    "# packages nodig voor mailen\n",
    "import smtplib, ssl\n",
    "from email.mime.text import MIMEText\n",
    "from email.mime.multipart import MIMEMultipart\n",
    "from email.mime.image import MIMEImage\n",
    "import time\n",
    "from IPython.core.display import HTML\n",
    "\n",
    "# data management == heel handig\n",
    "import pandas as pd\n",
    "import numpy as np"
   ]
  },
  {
   "cell_type": "markdown",
   "id": "4dcd60c3",
   "metadata": {},
   "source": [
    "We beginnen met het ophalen van ons excel, stop je excel in de zelfde map en voer de naam in waar staat _Leden van activiteit.xlsx_ . <br>\n",
    "Zo lang het ketzer systeem het zelfde blijft hebben we altijd de kollomen 'Unnamed: 0', 'Uid', 'Lidnaam', 'Opmerking', 'Opmerking2', 'Lid sinds','Aangemeld door'. Deze behouden we maar gebruiken voor _'lidnaam'_ voor aanhef en _'Uid'_ voor mail.<br>\n",
    "we slaan de eerste rij over, deze is altijd 'C.S.R. Delft - Beheer activiteiten', dat is de skiprows[0]"
   ]
  },
  {
   "cell_type": "code",
   "execution_count": 20,
   "id": "76bd4b3e",
   "metadata": {},
   "outputs": [
    {
     "data": {
      "text/plain": [
       "Index(['Unnamed: 0', 'Uid', 'Lidnaam', 'Opmerking', 'Opmerking2', 'Lid sinds',\n",
       "       'Aangemeld door'],\n",
       "      dtype='object')"
      ]
     },
     "execution_count": 20,
     "metadata": {},
     "output_type": "execute_result"
    }
   ],
   "source": [
    "df_in = pd.read_excel(\"Leden van Lustrum gala.xlsx\",skiprows=[0])\n",
    "df_in.columns"
   ]
  },
  {
   "cell_type": "markdown",
   "id": "0bd1ce30",
   "metadata": {},
   "source": [
    "Ter controlle de excel zie je dan hieronder:"
   ]
  },
  {
   "cell_type": "code",
   "execution_count": 21,
   "id": "b0478cc5",
   "metadata": {},
   "outputs": [
    {
     "data": {
      "text/html": [
       "<div>\n",
       "<style scoped>\n",
       "    .dataframe tbody tr th:only-of-type {\n",
       "        vertical-align: middle;\n",
       "    }\n",
       "\n",
       "    .dataframe tbody tr th {\n",
       "        vertical-align: top;\n",
       "    }\n",
       "\n",
       "    .dataframe thead th {\n",
       "        text-align: right;\n",
       "    }\n",
       "</style>\n",
       "<table border=\"1\" class=\"dataframe\">\n",
       "  <thead>\n",
       "    <tr style=\"text-align: right;\">\n",
       "      <th></th>\n",
       "      <th>Unnamed: 0</th>\n",
       "      <th>Uid</th>\n",
       "      <th>Lidnaam</th>\n",
       "      <th>Opmerking</th>\n",
       "      <th>Opmerking2</th>\n",
       "      <th>Lid sinds</th>\n",
       "      <th>Aangemeld door</th>\n",
       "    </tr>\n",
       "  </thead>\n",
       "  <tbody>\n",
       "    <tr>\n",
       "      <th>0</th>\n",
       "      <td>NaN</td>\n",
       "      <td>x101</td>\n",
       "      <td>Am. Lid</td>\n",
       "      <td>NaN</td>\n",
       "      <td>NaN</td>\n",
       "      <td>2022-05-20 12:12</td>\n",
       "      <td>Jan Lid</td>\n",
       "    </tr>\n",
       "    <tr>\n",
       "      <th>1</th>\n",
       "      <td>NaN</td>\n",
       "      <td>x102</td>\n",
       "      <td>Ama. Lid</td>\n",
       "      <td>NaN</td>\n",
       "      <td>NaN</td>\n",
       "      <td>2022-05-20 12:12</td>\n",
       "      <td>Jannette Lid</td>\n",
       "    </tr>\n",
       "    <tr>\n",
       "      <th>2</th>\n",
       "      <td>NaN</td>\n",
       "      <td>x103</td>\n",
       "      <td>Am. Lid2</td>\n",
       "      <td>Ama. Lid2 [0,1]</td>\n",
       "      <td>NaN</td>\n",
       "      <td>2022-05-20 12:12</td>\n",
       "      <td>Jan Lid</td>\n",
       "    </tr>\n",
       "    <tr>\n",
       "      <th>3</th>\n",
       "      <td>NaN</td>\n",
       "      <td>x104</td>\n",
       "      <td>Ama. Lid2</td>\n",
       "      <td>NaN</td>\n",
       "      <td>NaN</td>\n",
       "      <td>2022-05-20 12:12</td>\n",
       "      <td>Jannette Lid</td>\n",
       "    </tr>\n",
       "    <tr>\n",
       "      <th>4</th>\n",
       "      <td>NaN</td>\n",
       "      <td>x105</td>\n",
       "      <td>Am. Lid3</td>\n",
       "      <td>Ama. Lid3 (0,1)</td>\n",
       "      <td>NaN</td>\n",
       "      <td>2022-05-20 12:12</td>\n",
       "      <td>Jan Lid</td>\n",
       "    </tr>\n",
       "  </tbody>\n",
       "</table>\n",
       "</div>"
      ],
      "text/plain": [
       "   Unnamed: 0   Uid    Lidnaam        Opmerking  Opmerking2         Lid sinds  \\\n",
       "0         NaN  x101    Am. Lid              NaN         NaN  2022-05-20 12:12   \n",
       "1         NaN  x102   Ama. Lid              NaN         NaN  2022-05-20 12:12   \n",
       "2         NaN  x103   Am. Lid2  Ama. Lid2 [0,1]         NaN  2022-05-20 12:12   \n",
       "3         NaN  x104  Ama. Lid2              NaN         NaN  2022-05-20 12:12   \n",
       "4         NaN  x105   Am. Lid3  Ama. Lid3 (0,1)         NaN  2022-05-20 12:12   \n",
       "\n",
       "  Aangemeld door  \n",
       "0        Jan Lid  \n",
       "1   Jannette Lid  \n",
       "2        Jan Lid  \n",
       "3   Jannette Lid  \n",
       "4        Jan Lid  "
      ]
     },
     "execution_count": 21,
     "metadata": {},
     "output_type": "execute_result"
    }
   ],
   "source": [
    "df_in"
   ]
  },
  {
   "cell_type": "markdown",
   "id": "57c03c8f",
   "metadata": {},
   "source": [
    "Vervolgens laten we de lege kolom weg (unnamed:0) en kunnen we leden mailen met Uid@csrdelft.nl (ja vet handig)"
   ]
  },
  {
   "cell_type": "code",
   "execution_count": 37,
   "id": "5eca0b51",
   "metadata": {},
   "outputs": [
    {
     "data": {
      "text/html": [
       "<div>\n",
       "<style scoped>\n",
       "    .dataframe tbody tr th:only-of-type {\n",
       "        vertical-align: middle;\n",
       "    }\n",
       "\n",
       "    .dataframe tbody tr th {\n",
       "        vertical-align: top;\n",
       "    }\n",
       "\n",
       "    .dataframe thead th {\n",
       "        text-align: right;\n",
       "    }\n",
       "</style>\n",
       "<table border=\"1\" class=\"dataframe\">\n",
       "  <thead>\n",
       "    <tr style=\"text-align: right;\">\n",
       "      <th></th>\n",
       "      <th>Lidnaam</th>\n",
       "      <th>Opmerking</th>\n",
       "      <th>Opmerking2</th>\n",
       "      <th>Mail</th>\n",
       "    </tr>\n",
       "    <tr>\n",
       "      <th>Uid</th>\n",
       "      <th></th>\n",
       "      <th></th>\n",
       "      <th></th>\n",
       "      <th></th>\n",
       "    </tr>\n",
       "  </thead>\n",
       "  <tbody>\n",
       "    <tr>\n",
       "      <th>x101</th>\n",
       "      <td>Am. Lid</td>\n",
       "      <td>NaN</td>\n",
       "      <td>NaN</td>\n",
       "      <td>x101@csrdelft.nl</td>\n",
       "    </tr>\n",
       "    <tr>\n",
       "      <th>x102</th>\n",
       "      <td>Ama. Lid</td>\n",
       "      <td>NaN</td>\n",
       "      <td>NaN</td>\n",
       "      <td>x102@csrdelft.nl</td>\n",
       "    </tr>\n",
       "    <tr>\n",
       "      <th>x103</th>\n",
       "      <td>Am. Lid2</td>\n",
       "      <td>Ama. Lid2 [0,1]</td>\n",
       "      <td>NaN</td>\n",
       "      <td>x103@csrdelft.nl</td>\n",
       "    </tr>\n",
       "    <tr>\n",
       "      <th>x104</th>\n",
       "      <td>Ama. Lid2</td>\n",
       "      <td>NaN</td>\n",
       "      <td>NaN</td>\n",
       "      <td>x104@csrdelft.nl</td>\n",
       "    </tr>\n",
       "    <tr>\n",
       "      <th>x105</th>\n",
       "      <td>Am. Lid3</td>\n",
       "      <td>Ama. Lid3 (0,1)</td>\n",
       "      <td>NaN</td>\n",
       "      <td>x105@csrdelft.nl</td>\n",
       "    </tr>\n",
       "  </tbody>\n",
       "</table>\n",
       "</div>"
      ],
      "text/plain": [
       "        Lidnaam        Opmerking  Opmerking2              Mail\n",
       "Uid                                                           \n",
       "x101    Am. Lid              NaN         NaN  x101@csrdelft.nl\n",
       "x102   Ama. Lid              NaN         NaN  x102@csrdelft.nl\n",
       "x103   Am. Lid2  Ama. Lid2 [0,1]         NaN  x103@csrdelft.nl\n",
       "x104  Ama. Lid2              NaN         NaN  x104@csrdelft.nl\n",
       "x105   Am. Lid3  Ama. Lid3 (0,1)         NaN  x105@csrdelft.nl"
      ]
     },
     "execution_count": 37,
     "metadata": {},
     "output_type": "execute_result"
    }
   ],
   "source": [
    "# hij spuit een error maar dat is geen probleem in principe dus dit fixt het :)\n",
    "import warnings\n",
    "warnings.filterwarnings(\"ignore\")\n",
    "\n",
    "# behouden de kollomen\n",
    "df = df_in[['Uid','Lidnaam','Opmerking','Opmerking2']]\n",
    "# voegen een mail kollom aan\n",
    "df['Mail'] = df['Uid'].apply(lambda x: f'{x}@csrdelft.nl')\n",
    "\n",
    "# en maak van uid de index:\n",
    "if \"Uid\" in df.columns: # check om error te voorkomen\n",
    "    df = df.set_index(\"Uid\")\n",
    "    \n",
    "# df = df.loc[['x101']]\n",
    "df"
   ]
  },
  {
   "cell_type": "markdown",
   "id": "8d2ded6c",
   "metadata": {},
   "source": [
    "Wat vaak gebeurt is dat leden er dubbel in staan, je ziet dat janlid2 met jannette lid2 gaat, maar jannette heeft zich niet uitgekezt.<br>\n",
    "Noot dat vaak [0,1] eten voorkeuren aangeven <br>\n",
    "Met 300 leden naar een gala is dit wat lastig, daarom deze code: "
   ]
  },
  {
   "cell_type": "code",
   "execution_count": 23,
   "id": "dcdcae5b",
   "metadata": {},
   "outputs": [],
   "source": [
    "def check_double(df):\n",
    "    lst = []\n",
    "    if 'Lidnaam' in df.columns and 'Opmerking' in df.columns:\n",
    "        # haal de df op waar iedereen ee ndat heeft\n",
    "        df_to_check = df[['Lidnaam','Opmerking']].dropna()\n",
    "        \n",
    "        # maak lijsten van de aparte twee \n",
    "        met_dates = df_to_check.index.to_list()\n",
    "        iedereen = df.index.to_list()\n",
    "        \n",
    "        # verschil er tussen\n",
    "        zonder_date = list(set(iedereen).difference(set(met_dates)))\n",
    "        \n",
    "        # maak df van iedeereen zonder date:\n",
    "        df_to_compare_to = df.loc[df.index.isin(zonder_date)]\n",
    "        # hiervan maakt alleen de naam van de persoon die is ingekezt uit:\n",
    "        namen_ingekezt = df_to_compare_to[\"Lidnaam\"].to_list()\n",
    "        \n",
    "        # loop door alle namaen dates heen:  \n",
    "        for row in df_to_check.index: \n",
    "            naam_date = str(df_to_check.loc[row,'Opmerking'])\n",
    "#             print(naam_date)\n",
    "            # alleen amicale namen:\n",
    "            if naam_date[:2].upper() == \"AM\":\n",
    "                if naam_date.find(\"[\") == -1:\n",
    "                    print(f\"Pheut {row} met een () ipv []\")\n",
    "                    if naam_date.find(\"(\") != -1:\n",
    "                        naam_date_vinden = naam_date[:naam_date.find(\"(\")]\n",
    "                    else:\n",
    "                        raise Warning(f\"Geen eetwens bij {row}\")\n",
    "                else:\n",
    "                    naam_date_vinden = naam_date[:naam_date.find(\"[\")]\n",
    "                if naam_date_vinden[-1] == \" \":\n",
    "                    naam_date_vinden = naam_date_vinden[:-1]\n",
    "                if naam_date_vinden in namen_ingekezt:\n",
    "                    print(naam_date_vinden, row, namen_ingekezt.index(naam_date_vinden))\n",
    "                    lst.append(naam_date_vinden)\n",
    "            else:\n",
    "                pass\n",
    "        if len(lst) == 0:\n",
    "            print(\"Geen dubbele\")\n",
    "        else:\n",
    "            print(lst)\n",
    "        # \n",
    "    else:\n",
    "        raise Warning(\"Columns invalid\")"
   ]
  },
  {
   "cell_type": "code",
   "execution_count": 24,
   "id": "3c7f87e9",
   "metadata": {},
   "outputs": [
    {
     "name": "stdout",
     "output_type": "stream",
     "text": [
      "Ama. Lid2 x103 2\n",
      "Pheut x105 met een () ipv []\n",
      "['Ama. Lid2']\n"
     ]
    }
   ],
   "source": [
    "check_double(df)"
   ]
  },
  {
   "cell_type": "code",
   "execution_count": 38,
   "id": "9298436f",
   "metadata": {},
   "outputs": [],
   "source": [
    "df = df.loc[['x101']]"
   ]
  },
  {
   "cell_type": "markdown",
   "id": "71f4edc2",
   "metadata": {},
   "source": [
    "Stel je wilt een deel los mailen, dan kan je makkelijkst selecteren op lid nummer.<br>\n",
    "Bij echte uids kan je gwn een nummer ipv string invoeren<br>\n",
    "Haal de twee # weg om te zien hoe het werkt (dit doe ik al hier boven)"
   ]
  },
  {
   "cell_type": "markdown",
   "id": "7d6ae9b0",
   "metadata": {},
   "source": [
    "Dan het echte verzenden:"
   ]
  },
  {
   "cell_type": "code",
   "execution_count": 49,
   "id": "ff376e55",
   "metadata": {
    "scrolled": false
   },
   "outputs": [
    {
     "name": "stdout",
     "output_type": "stream",
     "text": [
      "0 kamers\n"
     ]
    },
    {
     "data": {
      "text/html": [
       "            <html>\n",
       "              <body>\n",
       "                    <p>Beste Am. Lid, <br></p>\n",
       "                    <p>Het gala van 21 oktober komt er nogsteeds aan.</p>\n",
       "                    <p> Om alles af te kunnen ronden horen wij graag voor 12 augustus 00:12 2022 wie u date is.<br>\n",
       "                    <b>Dit is al over 10 dagen al!<br>\n",
       "                    Dit klinkt misschien vroeg maar om de nodige voorbereidingen te kunnen treffen\n",
       "                    hebben wij tijdig een overzicht nodig van de aanwezigen.<br>\n",
       "                    Vooral ook omdat we graag de novieten verwelkomen op het gala. <br>\n",
       "                    Schrijf dus vooral uw blauwe/roze brieven en zet u date er bij in de ketzer!</b>\n",
       "                    </p>              \n",
       "\n",
       "\n",
       "                    <p>Met vriendelijke groet,\n",
       "                    <br> De 12e LustrumCie der C.S.R. Delft</p>\n",
       "\n",
       "              </body>\n",
       "            </html>\n",
       "\n",
       "            "
      ],
      "text/plain": [
       "<IPython.core.display.HTML object>"
      ]
     },
     "execution_count": 49,
     "metadata": {},
     "output_type": "execute_result"
    }
   ],
   "source": [
    "############# Dingen om aan te passen #############\n",
    "# deze is heel belangrijk, zorg dat hij bij testen op FALSE staat, anders verstuur je perongelijk mailtjes\n",
    "send = False\n",
    "# pas je commissie mail aan\n",
    "sender_email = \"commissie@csrdelft.nl\"\n",
    "\n",
    "############# Instellingen #############\n",
    "# wat server instellingen belangrijk om verbinding te maken met de server, inprincipe generiek \n",
    "port = 587\n",
    "smtp_server = \"smtp.knorrie.org\"\n",
    "\n",
    "# prompt om je wachtwoord in te voergen: \n",
    "if send:    \n",
    "    password = input(\"Type your password and press enter:\\n\")\n",
    "\n",
    "# bijhouden voor handigheid\n",
    "count_kamers = 0\n",
    "# voor alle rijen in de excel\n",
    "for i in range(len(df)):\n",
    "    # per rij nemen we die specifieke\n",
    "    row = df.iloc[i]\n",
    "    \n",
    "    # check voor een lege rij\n",
    "    if pd.isna(row['Opmerking']):\n",
    "        ############# Deel wat anders is: #############\n",
    "        # als de rij opmerkingen leeg is krijg je dus geen mail. \n",
    "\n",
    "\n",
    "        ############# Instellingen #############\n",
    "        # maak een message opject aan \n",
    "        message = MIMEMultipart(\"alternative\")\n",
    "\n",
    "        # de verstuurder is de commissie\n",
    "        message[\"From\"] = sender_email\n",
    "\n",
    "        # de ontavnger halen we uit de rij \n",
    "        receiver_email = row['Mail']\n",
    "        message[\"To\"] = receiver_email\n",
    "\n",
    "\n",
    "        ############# Dingen om aan te passen #############\n",
    "        #### gebruik bijv dit om de html opmaak te bouwen: https://html-online.com/editor/  of met de hand ####\n",
    "\n",
    "        # geef de mail een title\n",
    "        message[\"Subject\"] = f\"Voorbeeldmail naar alle leden in de activiteiten ketzer\"\n",
    "            # add main body\n",
    "        # add main body\n",
    "        body = f\"\"\"\\\n",
    "            <html>\n",
    "              <body>\n",
    "                    <p>Beste {row.Lidnaam}, <br></p>\n",
    "                    <p>Het gala van 21 oktober komt er nogsteeds aan.</p>\n",
    "                    <p> Om alles af te kunnen ronden horen wij graag voor 12 augustus 00:12 2022 wie u date is.<br>\n",
    "                    <b>Dit is al over 10 dagen al!<br>\n",
    "                    Dit klinkt misschien vroeg maar om de nodige voorbereidingen te kunnen treffen\n",
    "                    hebben wij tijdig een overzicht nodig van de aanwezigen.<br>\n",
    "                    Vooral ook omdat we graag de novieten verwelkomen op het gala. <br>\n",
    "                    Schrijf dus vooral uw blauwe/roze brieven en zet u date er bij in de ketzer!</b>\n",
    "                    </p>              \n",
    "\n",
    "\n",
    "                    <p>Met vriendelijke groet,\n",
    "                    <br> De 12e LustrumCie der C.S.R. Delft</p>\n",
    "\n",
    "              </body>\n",
    "            </html>\n",
    "\n",
    "            \"\"\"\n",
    "        ############# Verzenden #############\n",
    "        # je voegt dan de html toe\n",
    "        message.attach(MIMEText(body, \"html\"))\n",
    "\n",
    "        # je kan ook een foto toevoegen bijv. \n",
    "        picture = False\n",
    "        if picture:\n",
    "            with open('Postergala.jpeg','rb') as fin:\n",
    "                img = MIMEImage(fin.read())\n",
    "                img.add_header('Content-Disposition', 'inline; filename=poster.jpg')\n",
    "                message.attach(img)\n",
    "\n",
    "\n",
    "        # Als je aan het testen ben kan je printen aan zetten en dan zie je een voorbeeld\n",
    "        printing = True\n",
    "\n",
    "        # dit verstuurd het daadwerkelijk\n",
    "        if send:\n",
    "            context = ssl.create_default_context()\n",
    "            with smtplib.SMTP(smtp_server, port) as server:\n",
    "                server.ehlo()  # Can be omitted\n",
    "                server.starttls(context=context)\n",
    "                server.ehlo()  # Can be omitted\n",
    "                server.login(sender_email, password)\n",
    "                server.sendmail(sender_email, receiver_email, message.as_string())\n",
    "\n",
    "            print(f\"{i}: {receiver_email} sent\")\n",
    "\n",
    "        # als het een test is print hij het het bericht, moved to html out below\n",
    "#         else:\n",
    "#             \n",
    "# #             if printing:\n",
    "# #                 print(message)\n",
    "# # #                 pass\n",
    "    \n",
    "        # als je deze er niet in doet stopt ie na 100 mails\n",
    "        time.sleep(1)\n",
    "print(f'{count_kamers} kamers')\n",
    "HTML(body)"
   ]
  },
  {
   "cell_type": "markdown",
   "id": "9ac7b620",
   "metadata": {},
   "source": [
    "Hierboven een voorbeeld mail in tekst en dit heironder hoe het in gmail er uit ziet"
   ]
  },
  {
   "cell_type": "markdown",
   "id": "a9090349",
   "metadata": {},
   "source": [
    "![Hierboven een voorbeeld mail ](Voorbeeld3.png)"
   ]
  },
  {
   "cell_type": "code",
   "execution_count": null,
   "id": "b3075507",
   "metadata": {},
   "outputs": [],
   "source": []
  }
 ],
 "metadata": {
  "kernelspec": {
   "display_name": "Python 3 (ipykernel)",
   "language": "python",
   "name": "python3"
  },
  "language_info": {
   "codemirror_mode": {
    "name": "ipython",
    "version": 3
   },
   "file_extension": ".py",
   "mimetype": "text/x-python",
   "name": "python",
   "nbconvert_exporter": "python",
   "pygments_lexer": "ipython3",
   "version": "3.10.4"
  }
 },
 "nbformat": 4,
 "nbformat_minor": 5
}
