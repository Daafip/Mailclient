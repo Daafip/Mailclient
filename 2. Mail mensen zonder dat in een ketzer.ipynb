{
 "cells": [
  {
   "cell_type": "markdown",
   "id": "1cdd7d6c",
   "metadata": {},
   "source": [
    "# Het enige verschil met #1 is de if statement, rij 23 van cell 6\n",
    "_Nog elleganter is om bijna geheel automatisch te selecteren, hier geen ik een voorbeeld van een leden-zonder-date tool_"
   ]
  },
  {
   "cell_type": "markdown",
   "id": "4baaa1b2",
   "metadata": {},
   "source": [
    "Om alle leden in een ketzer te mailen hebben we een aantal packages nodig. <br>\n",
    "De meeste zitten standaard bij python, sommige niet: als je pandas of numpy niet hebt installeer die dan. <br>\n",
    "Dat kan met: _pip install pandas_ en _pip install numpy_"
   ]
  },
  {
   "cell_type": "code",
   "execution_count": 1,
   "id": "782b7041",
   "metadata": {},
   "outputs": [],
   "source": [
    "# packages nodig voor mailen\n",
    "import smtplib, ssl\n",
    "from email.mime.text import MIMEText\n",
    "from email.mime.multipart import MIMEMultipart\n",
    "from email.mime.image import MIMEImage\n",
    "import time\n",
    "\n",
    "# data management == heel handig\n",
    "import pandas as pd\n",
    "import numpy as np"
   ]
  },
  {
   "cell_type": "markdown",
   "id": "4dcd60c3",
   "metadata": {},
   "source": [
    "We beginnen met het ophalen van ons excel, stop je excel in de zelfde map en voer de naam in waar staat _Leden van activiteit.xlsx_ . <br>\n",
    "Zo lang het ketzer systeem het zelfde blijft hebben we altijd de kollomen 'Unnamed: 0', 'Uid', 'Lidnaam', 'Opmerking', 'Opmerking2', 'Lid sinds','Aangemeld door'. Deze behouden we maar gebruiken voor _'lidnaam'_ voor aanhef en _'Uid'_ voor mail.<br>\n",
    "we slaan de eerste rij over, deze is altijd 'C.S.R. Delft - Beheer activiteiten', dat is de skiprows[0]"
   ]
  },
  {
   "cell_type": "code",
   "execution_count": 2,
   "id": "76bd4b3e",
   "metadata": {},
   "outputs": [
    {
     "data": {
      "text/plain": [
       "Index(['Unnamed: 0', 'Uid', 'Lidnaam', 'Opmerking', 'Opmerking2', 'Lid sinds',\n",
       "       'Aangemeld door'],\n",
       "      dtype='object')"
      ]
     },
     "execution_count": 2,
     "metadata": {},
     "output_type": "execute_result"
    }
   ],
   "source": [
    "df_in = pd.read_excel(\"Leden van activiteit.xlsx\",skiprows=[0])\n",
    "df_in.columns"
   ]
  },
  {
   "cell_type": "markdown",
   "id": "0bd1ce30",
   "metadata": {},
   "source": [
    "Ter controlle de excel zie je dan hieronder:"
   ]
  },
  {
   "cell_type": "code",
   "execution_count": 3,
   "id": "b0478cc5",
   "metadata": {},
   "outputs": [
    {
     "data": {
      "text/html": [
       "<div>\n",
       "<style scoped>\n",
       "    .dataframe tbody tr th:only-of-type {\n",
       "        vertical-align: middle;\n",
       "    }\n",
       "\n",
       "    .dataframe tbody tr th {\n",
       "        vertical-align: top;\n",
       "    }\n",
       "\n",
       "    .dataframe thead th {\n",
       "        text-align: right;\n",
       "    }\n",
       "</style>\n",
       "<table border=\"1\" class=\"dataframe\">\n",
       "  <thead>\n",
       "    <tr style=\"text-align: right;\">\n",
       "      <th></th>\n",
       "      <th>Unnamed: 0</th>\n",
       "      <th>Uid</th>\n",
       "      <th>Lidnaam</th>\n",
       "      <th>Opmerking</th>\n",
       "      <th>Opmerking2</th>\n",
       "      <th>Lid sinds</th>\n",
       "      <th>Aangemeld door</th>\n",
       "    </tr>\n",
       "  </thead>\n",
       "  <tbody>\n",
       "    <tr>\n",
       "      <th>0</th>\n",
       "      <td>NaN</td>\n",
       "      <td>x101</td>\n",
       "      <td>Jan Lid</td>\n",
       "      <td>NaN</td>\n",
       "      <td>NaN</td>\n",
       "      <td>2022-05-20 12:12</td>\n",
       "      <td>Jan Lid</td>\n",
       "    </tr>\n",
       "    <tr>\n",
       "      <th>1</th>\n",
       "      <td>NaN</td>\n",
       "      <td>x102</td>\n",
       "      <td>Jannette Lid</td>\n",
       "      <td>NaN</td>\n",
       "      <td>NaN</td>\n",
       "      <td>2022-05-20 12:12</td>\n",
       "      <td>Jannette Lid</td>\n",
       "    </tr>\n",
       "  </tbody>\n",
       "</table>\n",
       "</div>"
      ],
      "text/plain": [
       "   Unnamed: 0   Uid       Lidnaam  Opmerking  Opmerking2         Lid sinds  \\\n",
       "0         NaN  x101       Jan Lid        NaN         NaN  2022-05-20 12:12   \n",
       "1         NaN  x102  Jannette Lid        NaN         NaN  2022-05-20 12:12   \n",
       "\n",
       "  Aangemeld door  \n",
       "0        Jan Lid  \n",
       "1   Jannette Lid  "
      ]
     },
     "execution_count": 3,
     "metadata": {},
     "output_type": "execute_result"
    }
   ],
   "source": [
    "df_in"
   ]
  },
  {
   "cell_type": "markdown",
   "id": "57c03c8f",
   "metadata": {},
   "source": [
    "Vervolgens laten we de lege kolom weg (unnamed:0) en kunnen we leden mailen met Uid@csrdelft.nl (ja vet handig)"
   ]
  },
  {
   "cell_type": "code",
   "execution_count": 4,
   "id": "5eca0b51",
   "metadata": {},
   "outputs": [
    {
     "data": {
      "text/html": [
       "<div>\n",
       "<style scoped>\n",
       "    .dataframe tbody tr th:only-of-type {\n",
       "        vertical-align: middle;\n",
       "    }\n",
       "\n",
       "    .dataframe tbody tr th {\n",
       "        vertical-align: top;\n",
       "    }\n",
       "\n",
       "    .dataframe thead th {\n",
       "        text-align: right;\n",
       "    }\n",
       "</style>\n",
       "<table border=\"1\" class=\"dataframe\">\n",
       "  <thead>\n",
       "    <tr style=\"text-align: right;\">\n",
       "      <th></th>\n",
       "      <th>Uid</th>\n",
       "      <th>Lidnaam</th>\n",
       "      <th>Opmerking</th>\n",
       "      <th>Opmerking2</th>\n",
       "      <th>Mail</th>\n",
       "    </tr>\n",
       "  </thead>\n",
       "  <tbody>\n",
       "    <tr>\n",
       "      <th>0</th>\n",
       "      <td>x101</td>\n",
       "      <td>Jan Lid</td>\n",
       "      <td>NaN</td>\n",
       "      <td>NaN</td>\n",
       "      <td>x101@csrdelft.nl</td>\n",
       "    </tr>\n",
       "    <tr>\n",
       "      <th>1</th>\n",
       "      <td>x102</td>\n",
       "      <td>Jannette Lid</td>\n",
       "      <td>NaN</td>\n",
       "      <td>NaN</td>\n",
       "      <td>x102@csrdelft.nl</td>\n",
       "    </tr>\n",
       "  </tbody>\n",
       "</table>\n",
       "</div>"
      ],
      "text/plain": [
       "    Uid       Lidnaam  Opmerking  Opmerking2              Mail\n",
       "0  x101       Jan Lid        NaN         NaN  x101@csrdelft.nl\n",
       "1  x102  Jannette Lid        NaN         NaN  x102@csrdelft.nl"
      ]
     },
     "execution_count": 4,
     "metadata": {},
     "output_type": "execute_result"
    }
   ],
   "source": [
    "# hij spuit een error maar dat is geen probleem in principe dus dit fixt het :)\n",
    "import warnings\n",
    "warnings.filterwarnings(\"ignore\")\n",
    "\n",
    "# behouden de kollomen\n",
    "df = df_in[['Uid','Lidnaam','Opmerking','Opmerking2']]\n",
    "# voegen een mail kollom aan\n",
    "df['Mail'] = df['Uid'].apply(lambda x: f'{x}@csrdelft.nl')\n",
    "\n",
    "df"
   ]
  },
  {
   "cell_type": "markdown",
   "id": "71f4edc2",
   "metadata": {},
   "source": [
    "Stel je wilt een deel los mailen, dan kan je makkelijkst selecteren op lid nummer.<br>\n",
    "hier geef ik als voorbeeld df2, maar je kan hem gwn df noemen<br>\n",
    "Bij echte uids kan je gwn een nummer ipv string invoeren<br>\n",
    "Haal de twee # weg om te zien hoe het werkt:"
   ]
  },
  {
   "cell_type": "code",
   "execution_count": 5,
   "id": "02908d36",
   "metadata": {},
   "outputs": [],
   "source": [
    "if \"Uid\" in df.columns: # check om error te voorkomen\n",
    "    df = df.set_index(\"Uid\")\n",
    "# df = df.loc[['x101']]\n",
    "# df"
   ]
  },
  {
   "cell_type": "markdown",
   "id": "7d6ae9b0",
   "metadata": {},
   "source": [
    "Dan het echte verzenden:"
   ]
  },
  {
   "cell_type": "code",
   "execution_count": 6,
   "id": "ff376e55",
   "metadata": {
    "scrolled": false
   },
   "outputs": [
    {
     "name": "stdout",
     "output_type": "stream",
     "text": [
      "Content-Type: multipart/alternative; boundary=\"===============5865620434320512191==\"\n",
      "MIME-Version: 1.0\n",
      "From: commissie@csrdelft.nl\n",
      "To: x101@csrdelft.nl\n",
      "Subject: Voorbeeldmail naar alle leden in de activiteiten ketzer\n",
      "\n",
      "--===============5865620434320512191==\n",
      "Content-Type: text/html; charset=\"us-ascii\"\n",
      "MIME-Version: 1.0\n",
      "Content-Transfer-Encoding: 7bit\n",
      "\n",
      "            <html>\n",
      "              <body>\n",
      "                    <p>Beste Jan Lid, <br></p>\n",
      "                    <p>Het gala van 21 oktober komt er al snel aan!</p>\n",
      "                    <p> Om alles af te kunnen ronden horen wij graag voor 12 augustus 00:12 2022 wie u date is.<br>\n",
      "                    Dit klinkt misschien vroeg maar om de nodige voorbereidingen te kunnen treffen\n",
      "                    hebben wij tijdig een overzicht nodig van de aanwezigen.<br>\n",
      "                    Vooral ook omdat we graag de novieten verwelkomen op het gala. <br>\n",
      "                    Schrijf dus vooral uw blauwe/roze brieven en zet u date er bij in de ketzer!\n",
      "                    </p>              \n",
      "\n",
      "\n",
      "                    <p>Met vriendelijke groet,\n",
      "                    <br> De 12e LustrumCie der C.S.R. Delft</p>\n",
      "\n",
      "              </body>\n",
      "            </html>\n",
      "\n",
      "            \n",
      "--===============5865620434320512191==--\n",
      "\n",
      "Content-Type: multipart/alternative; boundary=\"===============8287754197739133949==\"\n",
      "MIME-Version: 1.0\n",
      "From: commissie@csrdelft.nl\n",
      "To: x102@csrdelft.nl\n",
      "Subject: Voorbeeldmail naar alle leden in de activiteiten ketzer\n",
      "\n",
      "--===============8287754197739133949==\n",
      "Content-Type: text/html; charset=\"us-ascii\"\n",
      "MIME-Version: 1.0\n",
      "Content-Transfer-Encoding: 7bit\n",
      "\n",
      "            <html>\n",
      "              <body>\n",
      "                    <p>Beste Jannette Lid, <br></p>\n",
      "                    <p>Het gala van 21 oktober komt er al snel aan!</p>\n",
      "                    <p> Om alles af te kunnen ronden horen wij graag voor 12 augustus 00:12 2022 wie u date is.<br>\n",
      "                    Dit klinkt misschien vroeg maar om de nodige voorbereidingen te kunnen treffen\n",
      "                    hebben wij tijdig een overzicht nodig van de aanwezigen.<br>\n",
      "                    Vooral ook omdat we graag de novieten verwelkomen op het gala. <br>\n",
      "                    Schrijf dus vooral uw blauwe/roze brieven en zet u date er bij in de ketzer!\n",
      "                    </p>              \n",
      "\n",
      "\n",
      "                    <p>Met vriendelijke groet,\n",
      "                    <br> De 12e LustrumCie der C.S.R. Delft</p>\n",
      "\n",
      "              </body>\n",
      "            </html>\n",
      "\n",
      "            \n",
      "--===============8287754197739133949==--\n",
      "\n"
     ]
    }
   ],
   "source": [
    "############# Dingen om aan te passen #############\n",
    "# deze is heel belangrijk, zorg dat hij bij testen op FALSE staat, anders verstuur je perongelijk mailtjes\n",
    "send = False\n",
    "# pas je commissie mail aan\n",
    "sender_email = \"commissie@csrdelft.nl\"\n",
    "\n",
    "############# Instellingen #############\n",
    "# wat server instellingen belangrijk om verbinding te maken met de server, inprincipe generiek \n",
    "port = 587\n",
    "smtp_server = \"smtp.knorrie.org\"\n",
    "\n",
    "# prompt om je wachtwoord in te voergen: \n",
    "if send:    \n",
    "    password = input(\"Type your password and press enter:\\n\")\n",
    "\n",
    "# voor alle rijen in de excel\n",
    "for i in range(len(df)):\n",
    "    # per rij nemen we die specifieke\n",
    "    row = df.iloc[i]\n",
    "    \n",
    "    ############# Deel wat anders is: #############\n",
    "    # als de rij opmerkingen leeg is krijg je dus geen mail. \n",
    "    if pd.isna(row['Opmerking']):\n",
    "        \n",
    "        ############# Instellingen #############\n",
    "        # maak een message opject aan \n",
    "        message = MIMEMultipart(\"alternative\")\n",
    "        \n",
    "        # de verstuurder is de commissie\n",
    "        message[\"From\"] = sender_email\n",
    "\n",
    "        # de ontavnger halen we uit de rij \n",
    "        receiver_email = row['Mail']\n",
    "        message[\"To\"] = receiver_email\n",
    "\n",
    "        ############# Dingen om aan te passen #############\n",
    "        #### gebruik bijv dit om de html opmaak te bouwen: https://html-online.com/editor/  of met de hand ####\n",
    "\n",
    "        # geef de mail een title\n",
    "        message[\"Subject\"] = f\"Voorbeeldmail naar alle leden in de activiteiten ketzer\"\n",
    "            # add main body\n",
    "        body = f\"\"\"\\\n",
    "            <html>\n",
    "              <body>\n",
    "                    <p>Beste {row.Lidnaam}, <br></p>\n",
    "                    <p>Het gala van 21 oktober komt er al snel aan!</p>\n",
    "                    <p> Om alles af te kunnen ronden horen wij graag voor 12 augustus 00:12 2022 wie u date is.<br>\n",
    "                    Dit klinkt misschien vroeg maar om de nodige voorbereidingen te kunnen treffen\n",
    "                    hebben wij tijdig een overzicht nodig van de aanwezigen.<br>\n",
    "                    Vooral ook omdat we graag de novieten verwelkomen op het gala. <br>\n",
    "                    Schrijf dus vooral uw blauwe/roze brieven en zet u date er bij in de ketzer!\n",
    "                    </p>              \n",
    "\n",
    "\n",
    "                    <p>Met vriendelijke groet,\n",
    "                    <br> De 12e LustrumCie der C.S.R. Delft</p>\n",
    "\n",
    "              </body>\n",
    "            </html>\n",
    "\n",
    "            \"\"\"\n",
    "        ############# Verzenden #############\n",
    "        # je voegt dan de html toe\n",
    "        message.attach(MIMEText(body, \"html\"))\n",
    "\n",
    "        # je kan ook een foto toevoegen bijv. \n",
    "        picture = False\n",
    "        if picture:\n",
    "            with open('Postergala.jpeg','rb') as fin:\n",
    "                img = MIMEImage(fin.read())\n",
    "                img.add_header('Content-Disposition', 'inline; filename=poster.jpg')\n",
    "                message.attach(img)\n",
    "\n",
    "\n",
    "        # Als je aan het testen ben kan je printen aan zetten en dan zie je een voorbeeld\n",
    "        printing = True\n",
    "\n",
    "        # dit verstuurd het daadwerkelijk\n",
    "        if send:\n",
    "            context = ssl.create_default_context()\n",
    "            with smtplib.SMTP(smtp_server, port) as server:\n",
    "                server.ehlo()  # Can be omitted\n",
    "                server.starttls(context=context)\n",
    "                server.ehlo()  # Can be omitted\n",
    "                server.login(sender_email, password)\n",
    "                server.sendmail(sender_email, receiver_email, message.as_string())\n",
    "\n",
    "            print(f\"{i}: {receiver_email} sent\")\n",
    "\n",
    "        # als het een test is print hij het het bericht\n",
    "        else:\n",
    "            if printing:\n",
    "                print(message)\n",
    "\n",
    "        # als je deze er niet in doet stopt ie na 100 mails\n",
    "        time.sleep(1)"
   ]
  },
  {
   "cell_type": "markdown",
   "id": "9ac7b620",
   "metadata": {},
   "source": [
    "Hierboven een voorbeeld mail in tekst en dit heironder hoe het in gmail er uit ziet"
   ]
  },
  {
   "cell_type": "markdown",
   "id": "a9090349",
   "metadata": {},
   "source": [
    "![Hierboven een voorbeeld mail ](Voorbeeld.png)"
   ]
  },
  {
   "cell_type": "code",
   "execution_count": null,
   "id": "b3075507",
   "metadata": {},
   "outputs": [],
   "source": []
  }
 ],
 "metadata": {
  "kernelspec": {
   "display_name": "Python 3 (ipykernel)",
   "language": "python",
   "name": "python3"
  },
  "language_info": {
   "codemirror_mode": {
    "name": "ipython",
    "version": 3
   },
   "file_extension": ".py",
   "mimetype": "text/x-python",
   "name": "python",
   "nbconvert_exporter": "python",
   "pygments_lexer": "ipython3",
   "version": "3.10.4"
  }
 },
 "nbformat": 4,
 "nbformat_minor": 5
}
